{
 "cells": [
  {
   "cell_type": "code",
   "execution_count": 1,
   "metadata": {},
   "outputs": [],
   "source": [
    "# Dependencies and Setup\n",
    "import pandas as pd\n",
    "from sqlalchemy import create_engine"
   ]
  },
  {
   "cell_type": "code",
   "execution_count": 2,
   "metadata": {},
   "outputs": [
    {
     "output_type": "execute_result",
     "data": {
      "text/plain": "                                      game platform              developer  \\\n0                                 Portal 2       PC         Valve Software   \n1              The Elder Scrolls V: Skyrim       PC  Bethesda Game Studios   \n2  The Legend of Zelda: Ocarina of Time 3D      3DS                 GREZZO   \n3                      Batman: Arkham City       PC     Rocksteady Studios   \n4                      Super Mario 3D Land      3DS               Nintendo   \n\n              genre         number_players rating  release_date  \\\n0            Action                    NaN   E10+  Apr 18, 2011   \n1      Role-Playing  No Online Multiplayer      M  Nov 10, 2011   \n2     Miscellaneous  No Online Multiplayer   E10+  Jun 19, 2011   \n3  Action Adventure                    NaN      T  Nov 21, 2011   \n4            Action  No Online Multiplayer      E  Nov 13, 2011   \n\n   positive_critics  neutral_critics  negative_critics  positive_users  \\\n0                51                1                 0            1700   \n1                32                0                 0            1616   \n2                84                1                 0             283   \n3                27                0                 0             240   \n4                81                1                 0             251   \n\n   neutral_users  negative_users  metascore  user_score  \n0            107              19         95          90  \n1            322             451         94          82  \n2             20               5         94          90  \n3             34              27         91          87  \n4             39              11         90          84  ",
      "text/html": "<div>\n<style scoped>\n    .dataframe tbody tr th:only-of-type {\n        vertical-align: middle;\n    }\n\n    .dataframe tbody tr th {\n        vertical-align: top;\n    }\n\n    .dataframe thead th {\n        text-align: right;\n    }\n</style>\n<table border=\"1\" class=\"dataframe\">\n  <thead>\n    <tr style=\"text-align: right;\">\n      <th></th>\n      <th>game</th>\n      <th>platform</th>\n      <th>developer</th>\n      <th>genre</th>\n      <th>number_players</th>\n      <th>rating</th>\n      <th>release_date</th>\n      <th>positive_critics</th>\n      <th>neutral_critics</th>\n      <th>negative_critics</th>\n      <th>positive_users</th>\n      <th>neutral_users</th>\n      <th>negative_users</th>\n      <th>metascore</th>\n      <th>user_score</th>\n    </tr>\n  </thead>\n  <tbody>\n    <tr>\n      <th>0</th>\n      <td>Portal 2</td>\n      <td>PC</td>\n      <td>Valve Software</td>\n      <td>Action</td>\n      <td>NaN</td>\n      <td>E10+</td>\n      <td>Apr 18, 2011</td>\n      <td>51</td>\n      <td>1</td>\n      <td>0</td>\n      <td>1700</td>\n      <td>107</td>\n      <td>19</td>\n      <td>95</td>\n      <td>90</td>\n    </tr>\n    <tr>\n      <th>1</th>\n      <td>The Elder Scrolls V: Skyrim</td>\n      <td>PC</td>\n      <td>Bethesda Game Studios</td>\n      <td>Role-Playing</td>\n      <td>No Online Multiplayer</td>\n      <td>M</td>\n      <td>Nov 10, 2011</td>\n      <td>32</td>\n      <td>0</td>\n      <td>0</td>\n      <td>1616</td>\n      <td>322</td>\n      <td>451</td>\n      <td>94</td>\n      <td>82</td>\n    </tr>\n    <tr>\n      <th>2</th>\n      <td>The Legend of Zelda: Ocarina of Time 3D</td>\n      <td>3DS</td>\n      <td>GREZZO</td>\n      <td>Miscellaneous</td>\n      <td>No Online Multiplayer</td>\n      <td>E10+</td>\n      <td>Jun 19, 2011</td>\n      <td>84</td>\n      <td>1</td>\n      <td>0</td>\n      <td>283</td>\n      <td>20</td>\n      <td>5</td>\n      <td>94</td>\n      <td>90</td>\n    </tr>\n    <tr>\n      <th>3</th>\n      <td>Batman: Arkham City</td>\n      <td>PC</td>\n      <td>Rocksteady Studios</td>\n      <td>Action Adventure</td>\n      <td>NaN</td>\n      <td>T</td>\n      <td>Nov 21, 2011</td>\n      <td>27</td>\n      <td>0</td>\n      <td>0</td>\n      <td>240</td>\n      <td>34</td>\n      <td>27</td>\n      <td>91</td>\n      <td>87</td>\n    </tr>\n    <tr>\n      <th>4</th>\n      <td>Super Mario 3D Land</td>\n      <td>3DS</td>\n      <td>Nintendo</td>\n      <td>Action</td>\n      <td>No Online Multiplayer</td>\n      <td>E</td>\n      <td>Nov 13, 2011</td>\n      <td>81</td>\n      <td>1</td>\n      <td>0</td>\n      <td>251</td>\n      <td>39</td>\n      <td>11</td>\n      <td>90</td>\n      <td>84</td>\n    </tr>\n  </tbody>\n</table>\n</div>"
     },
     "metadata": {},
     "execution_count": 2
    }
   ],
   "source": [
    "ratings_path = \"data/metacritic.csv\"\n",
    "ratings_df = pd.read_csv(ratings_path)\n",
    "ratings_df.head()"
   ]
  },
  {
   "cell_type": "code",
   "execution_count": 38,
   "metadata": {},
   "outputs": [
    {
     "output_type": "execute_result",
     "data": {
      "text/plain": "                                         critics_positive  critics_neutral  \\\ngame_name                                                                    \nPortal 2                                               51                1   \nThe Elder Scrolls V: Skyrim                            32                0   \nThe Legend of Zelda: Ocarina of Time 3D                84                1   \nBatman: Arkham City                                    27                0   \nSuper Mario 3D Land                                    81                1   \n...                                                   ...              ...   \nModern Combat: Blackout                                 0                5   \nFimbul                                                  0                7   \nGeneration Zero                                         1               11   \nVane                                                    3               26   \nLeft Alive                                              1                7   \n\n                                         critics_negative  users_positive  \\\ngame_name                                                                   \nPortal 2                                                0            1700   \nThe Elder Scrolls V: Skyrim                             0            1616   \nThe Legend of Zelda: Ocarina of Time 3D                 0             283   \nBatman: Arkham City                                     0             240   \nSuper Mario 3D Land                                     0             251   \n...                                                   ...             ...   \nModern Combat: Blackout                                 2               1   \nFimbul                                                  2               1   \nGeneration Zero                                         6               5   \nVane                                                   22               2   \nLeft Alive                                             27              25   \n\n                                         users_neutral  users_negative  \ngame_name                                                               \nPortal 2                                           107              19  \nThe Elder Scrolls V: Skyrim                        322             451  \nThe Legend of Zelda: Ocarina of Time 3D             20               5  \nBatman: Arkham City                                 34              27  \nSuper Mario 3D Land                                 39              11  \n...                                                ...             ...  \nModern Combat: Blackout                              0               1  \nFimbul                                               0               0  \nGeneration Zero                                      2               6  \nVane                                                 2               2  \nLeft Alive                                           8              21  \n\n[4018 rows x 6 columns]",
      "text/html": "<div>\n<style scoped>\n    .dataframe tbody tr th:only-of-type {\n        vertical-align: middle;\n    }\n\n    .dataframe tbody tr th {\n        vertical-align: top;\n    }\n\n    .dataframe thead th {\n        text-align: right;\n    }\n</style>\n<table border=\"1\" class=\"dataframe\">\n  <thead>\n    <tr style=\"text-align: right;\">\n      <th></th>\n      <th>critics_positive</th>\n      <th>critics_neutral</th>\n      <th>critics_negative</th>\n      <th>users_positive</th>\n      <th>users_neutral</th>\n      <th>users_negative</th>\n    </tr>\n    <tr>\n      <th>game_name</th>\n      <th></th>\n      <th></th>\n      <th></th>\n      <th></th>\n      <th></th>\n      <th></th>\n    </tr>\n  </thead>\n  <tbody>\n    <tr>\n      <th>Portal 2</th>\n      <td>51</td>\n      <td>1</td>\n      <td>0</td>\n      <td>1700</td>\n      <td>107</td>\n      <td>19</td>\n    </tr>\n    <tr>\n      <th>The Elder Scrolls V: Skyrim</th>\n      <td>32</td>\n      <td>0</td>\n      <td>0</td>\n      <td>1616</td>\n      <td>322</td>\n      <td>451</td>\n    </tr>\n    <tr>\n      <th>The Legend of Zelda: Ocarina of Time 3D</th>\n      <td>84</td>\n      <td>1</td>\n      <td>0</td>\n      <td>283</td>\n      <td>20</td>\n      <td>5</td>\n    </tr>\n    <tr>\n      <th>Batman: Arkham City</th>\n      <td>27</td>\n      <td>0</td>\n      <td>0</td>\n      <td>240</td>\n      <td>34</td>\n      <td>27</td>\n    </tr>\n    <tr>\n      <th>Super Mario 3D Land</th>\n      <td>81</td>\n      <td>1</td>\n      <td>0</td>\n      <td>251</td>\n      <td>39</td>\n      <td>11</td>\n    </tr>\n    <tr>\n      <th>...</th>\n      <td>...</td>\n      <td>...</td>\n      <td>...</td>\n      <td>...</td>\n      <td>...</td>\n      <td>...</td>\n    </tr>\n    <tr>\n      <th>Modern Combat: Blackout</th>\n      <td>0</td>\n      <td>5</td>\n      <td>2</td>\n      <td>1</td>\n      <td>0</td>\n      <td>1</td>\n    </tr>\n    <tr>\n      <th>Fimbul</th>\n      <td>0</td>\n      <td>7</td>\n      <td>2</td>\n      <td>1</td>\n      <td>0</td>\n      <td>0</td>\n    </tr>\n    <tr>\n      <th>Generation Zero</th>\n      <td>1</td>\n      <td>11</td>\n      <td>6</td>\n      <td>5</td>\n      <td>2</td>\n      <td>6</td>\n    </tr>\n    <tr>\n      <th>Vane</th>\n      <td>3</td>\n      <td>26</td>\n      <td>22</td>\n      <td>2</td>\n      <td>2</td>\n      <td>2</td>\n    </tr>\n    <tr>\n      <th>Left Alive</th>\n      <td>1</td>\n      <td>7</td>\n      <td>27</td>\n      <td>25</td>\n      <td>8</td>\n      <td>21</td>\n    </tr>\n  </tbody>\n</table>\n<p>4018 rows × 6 columns</p>\n</div>"
     },
     "metadata": {},
     "execution_count": 38
    }
   ],
   "source": [
    "ratings_only_df = ratings_df[['game', 'positive_critics', 'neutral_critics', 'negative_critics', 'positive_users', 'neutral_users', 'negative_users']]\n",
    "ratings_only_df = ratings_only_df.rename(columns={\"game\": \"game_name\",\n",
    "    \"positive_critics\": \"critics_positive\",\n",
    "    \"neutral_critics\": \"critics_neutral\",\n",
    "    \"negative_critics\": \"critics_negative\",\n",
    "    \"positive_users\": \"users_positive\",\n",
    "    \"neutral_users\": \"users_neutral\",\n",
    "    \"negative_users\": \"users_negative\"})\n",
    "ratings_only_df.drop_duplicates(\"game_name\", inplace=True)\n",
    "ratings_only_df = ratings_only_df.set_index('game_name')\n",
    "ratings_only_df"
   ]
  },
  {
   "cell_type": "code",
   "execution_count": 41,
   "metadata": {},
   "outputs": [
    {
     "output_type": "execute_result",
     "data": {
      "text/plain": "   QueryID  ResponseID                  QueryName               ResponseName  \\\n0       10          10             Counter-Strike             Counter-Strike   \n1       20          20      Team Fortress Classic      Team Fortress Classic   \n2       30          30              Day of Defeat              Day of Defeat   \n3       40          40         Deathmatch Classic         Deathmatch Classic   \n4       50          50  Half-Life: Opposing Force  Half-Life: Opposing Force   \n\n  ReleaseDate  RequiredAge  DemoCount  DeveloperCount  DLCCount  Metacritic  \\\n0  Nov 1 2000            0          0               1         0          88   \n1  Apr 1 1999            0          0               1         0           0   \n2  May 1 2003            0          0               1         0          79   \n3  Jun 1 2001            0          0               1         0           0   \n4  Nov 1 1999            0          0               1         0           0   \n\n   ...  LegalNotice  Reviews  \\\n0  ...                         \n1  ...                         \n2  ...                         \n3  ...                         \n4  ...                         \n\n                                  SupportedLanguages  \\\n0  English French German Italian Spanish Simplifi...   \n1              English French German Italian Spanish   \n2              English French German Italian Spanish   \n3              English French German Italian Spanish   \n4                       English French German Korean   \n\n                       Website  \\\n0                         None   \n1                         None   \n2  http://www.dayofdefeat.com/   \n3                         None   \n4                         None   \n\n                                       PCMinReqsText  PCRecReqsText  \\\n0  Minimum: 500 mhz processor 96mb ram 16mb video...                  \n1  Minimum: 500 mhz processor 96mb ram 16mb video...                  \n2  Minimum: 500 mhz processor 96mb ram 16mb video...                  \n3  Minimum: 500 mhz processor 96mb ram 16mb video...                  \n4  Minimum: 500 mhz processor 96mb ram 16mb video...                  \n\n                                    LinuxMinReqsText  LinuxRecReqsText  \\\n0  Minimum: Linux Ubuntu 12.04 Dual-core from Int...                     \n1  Minimum: Linux Ubuntu 12.04 Dual-core from Int...                     \n2  Minimum: Linux Ubuntu 12.04 Dual-core from Int...                     \n3  Minimum: Linux Ubuntu 12.04 Dual-core from Int...                     \n4  Minimum: Linux Ubuntu 12.04 Dual-core from Int...                     \n\n                                      MacMinReqsText  MacRecReqsText  \n0  Minimum: OS X  Snow Leopard 10.6.3 1GB RAM 4GB...                  \n1  Minimum: OS X  Snow Leopard 10.6.3 1GB RAM 4GB...                  \n2  Minimum: OS X  Snow Leopard 10.6.3 1GB RAM 4GB...                  \n3  Minimum: OS X  Snow Leopard 10.6.3 1GB RAM 4GB...                  \n4  Minimum: OS X  Snow Leopard 10.6.3 1GB RAM 4GB...                  \n\n[5 rows x 78 columns]",
      "text/html": "<div>\n<style scoped>\n    .dataframe tbody tr th:only-of-type {\n        vertical-align: middle;\n    }\n\n    .dataframe tbody tr th {\n        vertical-align: top;\n    }\n\n    .dataframe thead th {\n        text-align: right;\n    }\n</style>\n<table border=\"1\" class=\"dataframe\">\n  <thead>\n    <tr style=\"text-align: right;\">\n      <th></th>\n      <th>QueryID</th>\n      <th>ResponseID</th>\n      <th>QueryName</th>\n      <th>ResponseName</th>\n      <th>ReleaseDate</th>\n      <th>RequiredAge</th>\n      <th>DemoCount</th>\n      <th>DeveloperCount</th>\n      <th>DLCCount</th>\n      <th>Metacritic</th>\n      <th>...</th>\n      <th>LegalNotice</th>\n      <th>Reviews</th>\n      <th>SupportedLanguages</th>\n      <th>Website</th>\n      <th>PCMinReqsText</th>\n      <th>PCRecReqsText</th>\n      <th>LinuxMinReqsText</th>\n      <th>LinuxRecReqsText</th>\n      <th>MacMinReqsText</th>\n      <th>MacRecReqsText</th>\n    </tr>\n  </thead>\n  <tbody>\n    <tr>\n      <th>0</th>\n      <td>10</td>\n      <td>10</td>\n      <td>Counter-Strike</td>\n      <td>Counter-Strike</td>\n      <td>Nov 1 2000</td>\n      <td>0</td>\n      <td>0</td>\n      <td>1</td>\n      <td>0</td>\n      <td>88</td>\n      <td>...</td>\n      <td></td>\n      <td></td>\n      <td>English French German Italian Spanish Simplifi...</td>\n      <td>None</td>\n      <td>Minimum: 500 mhz processor 96mb ram 16mb video...</td>\n      <td></td>\n      <td>Minimum: Linux Ubuntu 12.04 Dual-core from Int...</td>\n      <td></td>\n      <td>Minimum: OS X  Snow Leopard 10.6.3 1GB RAM 4GB...</td>\n      <td></td>\n    </tr>\n    <tr>\n      <th>1</th>\n      <td>20</td>\n      <td>20</td>\n      <td>Team Fortress Classic</td>\n      <td>Team Fortress Classic</td>\n      <td>Apr 1 1999</td>\n      <td>0</td>\n      <td>0</td>\n      <td>1</td>\n      <td>0</td>\n      <td>0</td>\n      <td>...</td>\n      <td></td>\n      <td></td>\n      <td>English French German Italian Spanish</td>\n      <td>None</td>\n      <td>Minimum: 500 mhz processor 96mb ram 16mb video...</td>\n      <td></td>\n      <td>Minimum: Linux Ubuntu 12.04 Dual-core from Int...</td>\n      <td></td>\n      <td>Minimum: OS X  Snow Leopard 10.6.3 1GB RAM 4GB...</td>\n      <td></td>\n    </tr>\n    <tr>\n      <th>2</th>\n      <td>30</td>\n      <td>30</td>\n      <td>Day of Defeat</td>\n      <td>Day of Defeat</td>\n      <td>May 1 2003</td>\n      <td>0</td>\n      <td>0</td>\n      <td>1</td>\n      <td>0</td>\n      <td>79</td>\n      <td>...</td>\n      <td></td>\n      <td></td>\n      <td>English French German Italian Spanish</td>\n      <td>http://www.dayofdefeat.com/</td>\n      <td>Minimum: 500 mhz processor 96mb ram 16mb video...</td>\n      <td></td>\n      <td>Minimum: Linux Ubuntu 12.04 Dual-core from Int...</td>\n      <td></td>\n      <td>Minimum: OS X  Snow Leopard 10.6.3 1GB RAM 4GB...</td>\n      <td></td>\n    </tr>\n    <tr>\n      <th>3</th>\n      <td>40</td>\n      <td>40</td>\n      <td>Deathmatch Classic</td>\n      <td>Deathmatch Classic</td>\n      <td>Jun 1 2001</td>\n      <td>0</td>\n      <td>0</td>\n      <td>1</td>\n      <td>0</td>\n      <td>0</td>\n      <td>...</td>\n      <td></td>\n      <td></td>\n      <td>English French German Italian Spanish</td>\n      <td>None</td>\n      <td>Minimum: 500 mhz processor 96mb ram 16mb video...</td>\n      <td></td>\n      <td>Minimum: Linux Ubuntu 12.04 Dual-core from Int...</td>\n      <td></td>\n      <td>Minimum: OS X  Snow Leopard 10.6.3 1GB RAM 4GB...</td>\n      <td></td>\n    </tr>\n    <tr>\n      <th>4</th>\n      <td>50</td>\n      <td>50</td>\n      <td>Half-Life: Opposing Force</td>\n      <td>Half-Life: Opposing Force</td>\n      <td>Nov 1 1999</td>\n      <td>0</td>\n      <td>0</td>\n      <td>1</td>\n      <td>0</td>\n      <td>0</td>\n      <td>...</td>\n      <td></td>\n      <td></td>\n      <td>English French German Korean</td>\n      <td>None</td>\n      <td>Minimum: 500 mhz processor 96mb ram 16mb video...</td>\n      <td></td>\n      <td>Minimum: Linux Ubuntu 12.04 Dual-core from Int...</td>\n      <td></td>\n      <td>Minimum: OS X  Snow Leopard 10.6.3 1GB RAM 4GB...</td>\n      <td></td>\n    </tr>\n  </tbody>\n</table>\n<p>5 rows × 78 columns</p>\n</div>"
     },
     "metadata": {},
     "execution_count": 41
    }
   ],
   "source": [
    "steam_path = \"data/steam.csv\"\n",
    "steam_df = pd.read_csv(steam_path)\n",
    "steam_df.head()"
   ]
  },
  {
   "cell_type": "code",
   "execution_count": 45,
   "metadata": {},
   "outputs": [
    {
     "output_type": "execute_result",
     "data": {
      "text/plain": "Empty DataFrame\nColumns: []\nIndex: [Counter-Strike, Team Fortress Classic, Day of Defeat, Deathmatch Classic, Half-Life: Opposing Force, Ricochet, Half-Life, Counter-Strike: Condition Zero, Half-Life: Blue Shift, Half-Life 2, Counter-Strike: Source, Half-Life: Source, Day of Defeat: Source, Half-Life 2: Deathmatch, Half-Life 2: Lost Coast, Half-Life Deathmatch: Source, Half-Life 2: Episode One, Portal, Half-Life 2: Episode Two, Team Fortress 2, Left 4 Dead, Left 4 Dead 2, Dota 2, Portal 2, Alien Swarm, Counter-Strike: Global Offensive, Rag Doll Kung Fu, Red Orchestra: Ostfront 41-45, Killing Floor, SiN Episodes: Emergence, Darwinia, Uplink, DEFCON, Multiwinia, Dangerous Waters, Space Empires IV Deluxe, Jagged Alliance 2 Gold, Disciples II: Rise of the Elves, Disciples II: Galleans Return, Iron Warriors: T - 72 Tank Command, Space Empires V, Arx Fatalis, Source Filmmaker, Earth 2160, Two Worlds Epic Edition, Dark Messiah of Might & Magic, Quake III Arena, Quake IV, Wolfenstein 3D, Ultimate Doom, Final DOOM, DOOM II, QUAKE, QUAKE II, QUAKE II Mission Pack: The Reckoning, QUAKE II Mission Pack: Ground Zero, QUAKE III: Team Arena, HeXen: Beyond Heretic, HeXen: Deathkings of the Dark Citadel, Heretic: Shadow of the Serpent Riders, The Ship: Murder Party, The Ship: Single Player, Bloody Good Time, Shadowgrounds, Gumboy - Crazy Adventures(tm), RIP - Trilogy(tm), Vigil: Blood Bitterness(tm), Alpha Prime, Vampire: The Masquerade - Bloodlines, GUN(tm), Call of Duty(r), Call of Duty(r) 2, Call of Duty: United Offensive, RollerCoaster Tycoon(r) 3: Platinum, Act of War: Direct Action, ThreadSpace: Hyperbol, ARMA: Combat Operations, X2: The Threat, X3: Reunion, X3: Terran Conflict, X: Beyond the Frontier, X: Tension, X Rebirth, 688(I) Hunter/Killer, Fleet Command, Sub Command, FlatOut 2(tm), GTI Racing, Xpand Rally, Call of Juarez(tm), Xpand Rally Xtreme, Men of War: Red Tide, Kings Bounty: Armored Princess, Painkiller: Black Edition, Genesis Rising, Safecracker: The Ultimate Puzzle Adventure, Painkiller Overdose, Bejeweled 2 Deluxe, Chuzzle Deluxe, Insaniquarium Deluxe, ...]\n\n[13199 rows x 0 columns]",
      "text/html": "<div>\n<style scoped>\n    .dataframe tbody tr th:only-of-type {\n        vertical-align: middle;\n    }\n\n    .dataframe tbody tr th {\n        vertical-align: top;\n    }\n\n    .dataframe thead th {\n        text-align: right;\n    }\n</style>\n<table border=\"1\" class=\"dataframe\">\n  <thead>\n    <tr style=\"text-align: right;\">\n      <th></th>\n    </tr>\n    <tr>\n      <th>game_name</th>\n    </tr>\n  </thead>\n  <tbody>\n    <tr>\n      <th>Counter-Strike</th>\n    </tr>\n    <tr>\n      <th>Team Fortress Classic</th>\n    </tr>\n    <tr>\n      <th>Day of Defeat</th>\n    </tr>\n    <tr>\n      <th>Deathmatch Classic</th>\n    </tr>\n    <tr>\n      <th>Half-Life: Opposing Force</th>\n    </tr>\n    <tr>\n      <th>...</th>\n    </tr>\n    <tr>\n      <th>Baseball Riot</th>\n    </tr>\n    <tr>\n      <th>Passage 4</th>\n    </tr>\n    <tr>\n      <th>Piximalism</th>\n    </tr>\n    <tr>\n      <th>Technoball</th>\n    </tr>\n    <tr>\n      <th>Ghostlight Manor</th>\n    </tr>\n  </tbody>\n</table>\n<p>13199 rows × 0 columns</p>\n</div>"
     },
     "metadata": {},
     "execution_count": 45
    }
   ],
   "source": [
    "steam_df_relevant = steam_df[['ResponseName']]\n",
    "steam_df_relevant = steam_df_relevant.rename(columns={\"ResponseName\": \"game_name\"})\n",
    "steam_df_relevant.drop_duplicates(\"game_name\", inplace=True)\n",
    "steam_df_relevant = steam_df_relevant.set_index('game_name')\n",
    "steam_df_relevant"
   ]
  },
  {
   "cell_type": "code",
   "execution_count": 28,
   "metadata": {},
   "outputs": [],
   "source": [
    "connection_string = \"postgres:postgres@localhost:5432/game_ratings_db\"\n",
    "engine = create_engine(f'postgresql://{connection_string}')"
   ]
  },
  {
   "cell_type": "code",
   "execution_count": 29,
   "metadata": {},
   "outputs": [
    {
     "output_type": "execute_result",
     "data": {
      "text/plain": "['ratings', 'games']"
     },
     "metadata": {},
     "execution_count": 29
    }
   ],
   "source": [
    "engine.table_names()"
   ]
  },
  {
   "cell_type": "code",
   "execution_count": 39,
   "metadata": {},
   "outputs": [],
   "source": [
    "ratings_only_df.to_sql(name='ratings', con=engine, if_exists='append', index=True)"
   ]
  },
  {
   "cell_type": "code",
   "execution_count": 46,
   "metadata": {},
   "outputs": [],
   "source": [
    "steam_df_relevant.to_sql(name='games', con=engine, if_exists='append', index=True)"
   ]
  },
  {
   "cell_type": "code",
   "execution_count": null,
   "metadata": {},
   "outputs": [],
   "source": []
  }
 ],
 "metadata": {
  "anaconda-cloud": {},
  "kernel_info": {
   "name": "python3"
  },
  "kernelspec": {
   "display_name": "Python 3",
   "language": "python",
   "name": "python3"
  },
  "language_info": {
   "codemirror_mode": {
    "name": "ipython",
    "version": 3
   },
   "file_extension": ".py",
   "mimetype": "text/x-python",
   "name": "python",
   "nbconvert_exporter": "python",
   "pygments_lexer": "ipython3",
   "version": "3.6.10-final"
  },
  "latex_envs": {
   "LaTeX_envs_menu_present": true,
   "autoclose": false,
   "autocomplete": true,
   "bibliofile": "biblio.bib",
   "cite_by": "apalike",
   "current_citInitial": 1,
   "eqLabelWithNumbers": true,
   "eqNumInitial": 1,
   "hotkeys": {
    "equation": "Ctrl-E",
    "itemize": "Ctrl-I"
   },
   "labels_anchors": false,
   "latex_user_defs": false,
   "report_style_numbering": false,
   "user_envs_cfg": false
  },
  "nteract": {
   "version": "0.8.4"
  }
 },
 "nbformat": 4,
 "nbformat_minor": 1
}
