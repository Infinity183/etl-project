{
 "metadata": {
  "language_info": {
   "codemirror_mode": {
    "name": "ipython",
    "version": 3
   },
   "file_extension": ".py",
   "mimetype": "text/x-python",
   "name": "python",
   "nbconvert_exporter": "python",
   "pygments_lexer": "ipython3",
   "version": "3.7.6-final"
  },
  "orig_nbformat": 2,
  "kernelspec": {
   "name": "python_defaultSpec_1598116753769",
   "display_name": "Python 3.7.6 64-bit ('base': conda)"
  }
 },
 "nbformat": 4,
 "nbformat_minor": 2,
 "cells": [
  {
   "cell_type": "code",
   "execution_count": 300,
   "metadata": {},
   "outputs": [],
   "source": [
    "import os\n",
    "import pandas as pd\n",
    "from sqlalchemy import create_engine"
   ]
  },
  {
   "cell_type": "code",
   "execution_count": 301,
   "metadata": {},
   "outputs": [],
   "source": [
    "file_meta = 'data/metacritic.csv'\n",
    "file_steam = 'data/steam.csv'"
   ]
  },
  {
   "cell_type": "code",
   "execution_count": 302,
   "metadata": {},
   "outputs": [
    {
     "output_type": "execute_result",
     "data": {
      "text/plain": "                                      game platform              developer  \\\n0                                 Portal 2       PC         Valve Software   \n1              The Elder Scrolls V: Skyrim       PC  Bethesda Game Studios   \n2  The Legend of Zelda: Ocarina of Time 3D      3DS                 GREZZO   \n3                      Batman: Arkham City       PC     Rocksteady Studios   \n4                      Super Mario 3D Land      3DS               Nintendo   \n\n              genre         number_players rating  release_date  \\\n0            Action                    NaN   E10+  Apr 18, 2011   \n1      Role-Playing  No Online Multiplayer      M  Nov 10, 2011   \n2     Miscellaneous  No Online Multiplayer   E10+  Jun 19, 2011   \n3  Action Adventure                    NaN      T  Nov 21, 2011   \n4            Action  No Online Multiplayer      E  Nov 13, 2011   \n\n   positive_critics  neutral_critics  negative_critics  positive_users  \\\n0                51                1                 0            1700   \n1                32                0                 0            1616   \n2                84                1                 0             283   \n3                27                0                 0             240   \n4                81                1                 0             251   \n\n   neutral_users  negative_users  metascore  user_score  \n0            107              19         95          90  \n1            322             451         94          82  \n2             20               5         94          90  \n3             34              27         91          87  \n4             39              11         90          84  ",
      "text/html": "<div>\n<style scoped>\n    .dataframe tbody tr th:only-of-type {\n        vertical-align: middle;\n    }\n\n    .dataframe tbody tr th {\n        vertical-align: top;\n    }\n\n    .dataframe thead th {\n        text-align: right;\n    }\n</style>\n<table border=\"1\" class=\"dataframe\">\n  <thead>\n    <tr style=\"text-align: right;\">\n      <th></th>\n      <th>game</th>\n      <th>platform</th>\n      <th>developer</th>\n      <th>genre</th>\n      <th>number_players</th>\n      <th>rating</th>\n      <th>release_date</th>\n      <th>positive_critics</th>\n      <th>neutral_critics</th>\n      <th>negative_critics</th>\n      <th>positive_users</th>\n      <th>neutral_users</th>\n      <th>negative_users</th>\n      <th>metascore</th>\n      <th>user_score</th>\n    </tr>\n  </thead>\n  <tbody>\n    <tr>\n      <th>0</th>\n      <td>Portal 2</td>\n      <td>PC</td>\n      <td>Valve Software</td>\n      <td>Action</td>\n      <td>NaN</td>\n      <td>E10+</td>\n      <td>Apr 18, 2011</td>\n      <td>51</td>\n      <td>1</td>\n      <td>0</td>\n      <td>1700</td>\n      <td>107</td>\n      <td>19</td>\n      <td>95</td>\n      <td>90</td>\n    </tr>\n    <tr>\n      <th>1</th>\n      <td>The Elder Scrolls V: Skyrim</td>\n      <td>PC</td>\n      <td>Bethesda Game Studios</td>\n      <td>Role-Playing</td>\n      <td>No Online Multiplayer</td>\n      <td>M</td>\n      <td>Nov 10, 2011</td>\n      <td>32</td>\n      <td>0</td>\n      <td>0</td>\n      <td>1616</td>\n      <td>322</td>\n      <td>451</td>\n      <td>94</td>\n      <td>82</td>\n    </tr>\n    <tr>\n      <th>2</th>\n      <td>The Legend of Zelda: Ocarina of Time 3D</td>\n      <td>3DS</td>\n      <td>GREZZO</td>\n      <td>Miscellaneous</td>\n      <td>No Online Multiplayer</td>\n      <td>E10+</td>\n      <td>Jun 19, 2011</td>\n      <td>84</td>\n      <td>1</td>\n      <td>0</td>\n      <td>283</td>\n      <td>20</td>\n      <td>5</td>\n      <td>94</td>\n      <td>90</td>\n    </tr>\n    <tr>\n      <th>3</th>\n      <td>Batman: Arkham City</td>\n      <td>PC</td>\n      <td>Rocksteady Studios</td>\n      <td>Action Adventure</td>\n      <td>NaN</td>\n      <td>T</td>\n      <td>Nov 21, 2011</td>\n      <td>27</td>\n      <td>0</td>\n      <td>0</td>\n      <td>240</td>\n      <td>34</td>\n      <td>27</td>\n      <td>91</td>\n      <td>87</td>\n    </tr>\n    <tr>\n      <th>4</th>\n      <td>Super Mario 3D Land</td>\n      <td>3DS</td>\n      <td>Nintendo</td>\n      <td>Action</td>\n      <td>No Online Multiplayer</td>\n      <td>E</td>\n      <td>Nov 13, 2011</td>\n      <td>81</td>\n      <td>1</td>\n      <td>0</td>\n      <td>251</td>\n      <td>39</td>\n      <td>11</td>\n      <td>90</td>\n      <td>84</td>\n    </tr>\n  </tbody>\n</table>\n</div>"
     },
     "metadata": {},
     "execution_count": 302
    }
   ],
   "source": [
    "meta_df = pd.read_csv(file_meta)\n",
    "meta_df.head()"
   ]
  },
  {
   "cell_type": "code",
   "execution_count": 303,
   "metadata": {},
   "outputs": [
    {
     "output_type": "execute_result",
     "data": {
      "text/plain": "                                        Title  Release Date             Genre  \\\n0                                    Portal 2  Apr 18, 2011            Action   \n1                 The Elder Scrolls V: Skyrim  Nov 10, 2011      Role-Playing   \n2     The Legend of Zelda: Ocarina of Time 3D  Jun 19, 2011     Miscellaneous   \n3                         Batman: Arkham City  Nov 21, 2011  Action Adventure   \n4                         Super Mario 3D Land  Nov 13, 2011            Action   \n...                                       ...           ...               ...   \n5694                  Modern Combat: Blackout  Feb 14, 2019            Action   \n5695                                   Fimbul  Feb 28, 2019  Action Adventure   \n5696                          Generation Zero  Mar 26, 2019  Action Adventure   \n5697                                     Vane  Jan 15, 2019         Adventure   \n5698                               Left Alive  Mar  5, 2019  Action Adventure   \n\n      Metacritic Score  Player Score  \n0                   95            90  \n1                   94            82  \n2                   94            90  \n3                   91            87  \n4                   90            84  \n...                ...           ...  \n5694                53            57  \n5695                52            18  \n5696                50            57  \n5697                49            55  \n5698                37            79  \n\n[5699 rows x 5 columns]",
      "text/html": "<div>\n<style scoped>\n    .dataframe tbody tr th:only-of-type {\n        vertical-align: middle;\n    }\n\n    .dataframe tbody tr th {\n        vertical-align: top;\n    }\n\n    .dataframe thead th {\n        text-align: right;\n    }\n</style>\n<table border=\"1\" class=\"dataframe\">\n  <thead>\n    <tr style=\"text-align: right;\">\n      <th></th>\n      <th>Title</th>\n      <th>Release Date</th>\n      <th>Genre</th>\n      <th>Metacritic Score</th>\n      <th>Player Score</th>\n    </tr>\n  </thead>\n  <tbody>\n    <tr>\n      <th>0</th>\n      <td>Portal 2</td>\n      <td>Apr 18, 2011</td>\n      <td>Action</td>\n      <td>95</td>\n      <td>90</td>\n    </tr>\n    <tr>\n      <th>1</th>\n      <td>The Elder Scrolls V: Skyrim</td>\n      <td>Nov 10, 2011</td>\n      <td>Role-Playing</td>\n      <td>94</td>\n      <td>82</td>\n    </tr>\n    <tr>\n      <th>2</th>\n      <td>The Legend of Zelda: Ocarina of Time 3D</td>\n      <td>Jun 19, 2011</td>\n      <td>Miscellaneous</td>\n      <td>94</td>\n      <td>90</td>\n    </tr>\n    <tr>\n      <th>3</th>\n      <td>Batman: Arkham City</td>\n      <td>Nov 21, 2011</td>\n      <td>Action Adventure</td>\n      <td>91</td>\n      <td>87</td>\n    </tr>\n    <tr>\n      <th>4</th>\n      <td>Super Mario 3D Land</td>\n      <td>Nov 13, 2011</td>\n      <td>Action</td>\n      <td>90</td>\n      <td>84</td>\n    </tr>\n    <tr>\n      <th>...</th>\n      <td>...</td>\n      <td>...</td>\n      <td>...</td>\n      <td>...</td>\n      <td>...</td>\n    </tr>\n    <tr>\n      <th>5694</th>\n      <td>Modern Combat: Blackout</td>\n      <td>Feb 14, 2019</td>\n      <td>Action</td>\n      <td>53</td>\n      <td>57</td>\n    </tr>\n    <tr>\n      <th>5695</th>\n      <td>Fimbul</td>\n      <td>Feb 28, 2019</td>\n      <td>Action Adventure</td>\n      <td>52</td>\n      <td>18</td>\n    </tr>\n    <tr>\n      <th>5696</th>\n      <td>Generation Zero</td>\n      <td>Mar 26, 2019</td>\n      <td>Action Adventure</td>\n      <td>50</td>\n      <td>57</td>\n    </tr>\n    <tr>\n      <th>5697</th>\n      <td>Vane</td>\n      <td>Jan 15, 2019</td>\n      <td>Adventure</td>\n      <td>49</td>\n      <td>55</td>\n    </tr>\n    <tr>\n      <th>5698</th>\n      <td>Left Alive</td>\n      <td>Mar  5, 2019</td>\n      <td>Action Adventure</td>\n      <td>37</td>\n      <td>79</td>\n    </tr>\n  </tbody>\n</table>\n<p>5699 rows × 5 columns</p>\n</div>"
     },
     "metadata": {},
     "execution_count": 303
    }
   ],
   "source": [
    "meta_df_rename = meta_df.rename(columns={'game': 'Title', 'genre': 'Genre', 'release_date': 'Release Date', 'metascore': 'Metacritic Score', 'user_score': 'Player Score'})\n",
    "new_meta_df = meta_df_rename[['Title','Release Date','Genre','Metacritic Score','Player Score']]\n",
    "new_meta_df"
   ]
  },
  {
   "cell_type": "code",
   "execution_count": 304,
   "metadata": {},
   "outputs": [
    {
     "output_type": "execute_result",
     "data": {
      "text/plain": "                       Title Release Date    RPG    MMO\n0             Counter-Strike   Nov 1 2000  False  False\n1      Team Fortress Classic   Apr 1 1999  False  False\n2              Day of Defeat   May 1 2003  False  False\n3         Deathmatch Classic   Jun 1 2001  False  False\n4  Half-Life: Opposing Force   Nov 1 1999  False  False",
      "text/html": "<div>\n<style scoped>\n    .dataframe tbody tr th:only-of-type {\n        vertical-align: middle;\n    }\n\n    .dataframe tbody tr th {\n        vertical-align: top;\n    }\n\n    .dataframe thead th {\n        text-align: right;\n    }\n</style>\n<table border=\"1\" class=\"dataframe\">\n  <thead>\n    <tr style=\"text-align: right;\">\n      <th></th>\n      <th>Title</th>\n      <th>Release Date</th>\n      <th>RPG</th>\n      <th>MMO</th>\n    </tr>\n  </thead>\n  <tbody>\n    <tr>\n      <th>0</th>\n      <td>Counter-Strike</td>\n      <td>Nov 1 2000</td>\n      <td>False</td>\n      <td>False</td>\n    </tr>\n    <tr>\n      <th>1</th>\n      <td>Team Fortress Classic</td>\n      <td>Apr 1 1999</td>\n      <td>False</td>\n      <td>False</td>\n    </tr>\n    <tr>\n      <th>2</th>\n      <td>Day of Defeat</td>\n      <td>May 1 2003</td>\n      <td>False</td>\n      <td>False</td>\n    </tr>\n    <tr>\n      <th>3</th>\n      <td>Deathmatch Classic</td>\n      <td>Jun 1 2001</td>\n      <td>False</td>\n      <td>False</td>\n    </tr>\n    <tr>\n      <th>4</th>\n      <td>Half-Life: Opposing Force</td>\n      <td>Nov 1 1999</td>\n      <td>False</td>\n      <td>False</td>\n    </tr>\n  </tbody>\n</table>\n</div>"
     },
     "metadata": {},
     "execution_count": 304
    }
   ],
   "source": [
    "steam_df = pd.read_csv(file_steam)\n",
    "steam_df_call = steam_df[['ResponseName','ReleaseDate','GenreIsRPG','CategoryMMO']]\n",
    "new_steam_df = steam_df_call.rename(columns={'ResponseName':'Title','ReleaseDate':'Release Date','GenreIsRPG':'RPG','CategoryMMO':'MMO'})\n",
    "new_steam_df.head()"
   ]
  },
  {
   "cell_type": "code",
   "execution_count": 305,
   "metadata": {},
   "outputs": [
    {
     "output_type": "execute_result",
     "data": {
      "text/plain": "Empty DataFrame\nColumns: [Title, Release Date, Genre, Metacritic Score, Player Score, RPG, MMO]\nIndex: []",
      "text/html": "<div>\n<style scoped>\n    .dataframe tbody tr th:only-of-type {\n        vertical-align: middle;\n    }\n\n    .dataframe tbody tr th {\n        vertical-align: top;\n    }\n\n    .dataframe thead th {\n        text-align: right;\n    }\n</style>\n<table border=\"1\" class=\"dataframe\">\n  <thead>\n    <tr style=\"text-align: right;\">\n      <th></th>\n      <th>Title</th>\n      <th>Release Date</th>\n      <th>Genre</th>\n      <th>Metacritic Score</th>\n      <th>Player Score</th>\n      <th>RPG</th>\n      <th>MMO</th>\n    </tr>\n  </thead>\n  <tbody>\n  </tbody>\n</table>\n</div>"
     },
     "metadata": {},
     "execution_count": 305
    }
   ],
   "source": [
    "join_title = pd.merge(new_meta_df, new_steam_df)\n",
    "join_title.head()"
   ]
  },
  {
   "cell_type": "code",
   "execution_count": 306,
   "metadata": {},
   "outputs": [
    {
     "output_type": "execute_result",
     "data": {
      "text/plain": "                                  Title Release Date_x             Genre  \\\n0                              Portal 2   Apr 18, 2011            Action   \n1                              Portal 2   Apr 18, 2011            Action   \n2                              Portal 2   Apr 18, 2011            Action   \n3           The Elder Scrolls V: Skyrim   Nov 10, 2011      Role-Playing   \n4           The Elder Scrolls V: Skyrim   Nov 17, 2017      Role-Playing   \n...                                 ...            ...               ...   \n1837  ToeJam & Earl: Back in the Groove   Feb 15, 2019            Action   \n1838  ToeJam & Earl: Back in the Groove   Mar  1, 2019            Action   \n1839  ToeJam & Earl: Back in the Groove   Feb 15, 2019            Action   \n1840                          ASTRONEER   Feb  6, 2019  Action Adventure   \n1841                       8-Bit Hordes   Feb  1, 2019          Strategy   \n\n      Metacritic Score  Player Score Release Date_y    RPG    MMO  \n0                   95            90    Apr 18 2011  False  False  \n1                   95            90    Apr 18 2011  False  False  \n2                   95            90    Apr 18 2011  False  False  \n3                   94            82    Nov 10 2011   True  False  \n4                   84            82    Nov 10 2011   True  False  \n...                ...           ...            ...    ...    ...  \n1837                76            48    Coming 2017  False  False  \n1838                68            58    Coming 2017  False  False  \n1839                65            62    Coming 2017  False  False  \n1840                73            71           2016  False  False  \n1841                63            25    Aug 12 2016  False  False  \n\n[1842 rows x 8 columns]",
      "text/html": "<div>\n<style scoped>\n    .dataframe tbody tr th:only-of-type {\n        vertical-align: middle;\n    }\n\n    .dataframe tbody tr th {\n        vertical-align: top;\n    }\n\n    .dataframe thead th {\n        text-align: right;\n    }\n</style>\n<table border=\"1\" class=\"dataframe\">\n  <thead>\n    <tr style=\"text-align: right;\">\n      <th></th>\n      <th>Title</th>\n      <th>Release Date_x</th>\n      <th>Genre</th>\n      <th>Metacritic Score</th>\n      <th>Player Score</th>\n      <th>Release Date_y</th>\n      <th>RPG</th>\n      <th>MMO</th>\n    </tr>\n  </thead>\n  <tbody>\n    <tr>\n      <th>0</th>\n      <td>Portal 2</td>\n      <td>Apr 18, 2011</td>\n      <td>Action</td>\n      <td>95</td>\n      <td>90</td>\n      <td>Apr 18 2011</td>\n      <td>False</td>\n      <td>False</td>\n    </tr>\n    <tr>\n      <th>1</th>\n      <td>Portal 2</td>\n      <td>Apr 18, 2011</td>\n      <td>Action</td>\n      <td>95</td>\n      <td>90</td>\n      <td>Apr 18 2011</td>\n      <td>False</td>\n      <td>False</td>\n    </tr>\n    <tr>\n      <th>2</th>\n      <td>Portal 2</td>\n      <td>Apr 18, 2011</td>\n      <td>Action</td>\n      <td>95</td>\n      <td>90</td>\n      <td>Apr 18 2011</td>\n      <td>False</td>\n      <td>False</td>\n    </tr>\n    <tr>\n      <th>3</th>\n      <td>The Elder Scrolls V: Skyrim</td>\n      <td>Nov 10, 2011</td>\n      <td>Role-Playing</td>\n      <td>94</td>\n      <td>82</td>\n      <td>Nov 10 2011</td>\n      <td>True</td>\n      <td>False</td>\n    </tr>\n    <tr>\n      <th>4</th>\n      <td>The Elder Scrolls V: Skyrim</td>\n      <td>Nov 17, 2017</td>\n      <td>Role-Playing</td>\n      <td>84</td>\n      <td>82</td>\n      <td>Nov 10 2011</td>\n      <td>True</td>\n      <td>False</td>\n    </tr>\n    <tr>\n      <th>...</th>\n      <td>...</td>\n      <td>...</td>\n      <td>...</td>\n      <td>...</td>\n      <td>...</td>\n      <td>...</td>\n      <td>...</td>\n      <td>...</td>\n    </tr>\n    <tr>\n      <th>1837</th>\n      <td>ToeJam &amp; Earl: Back in the Groove</td>\n      <td>Feb 15, 2019</td>\n      <td>Action</td>\n      <td>76</td>\n      <td>48</td>\n      <td>Coming 2017</td>\n      <td>False</td>\n      <td>False</td>\n    </tr>\n    <tr>\n      <th>1838</th>\n      <td>ToeJam &amp; Earl: Back in the Groove</td>\n      <td>Mar  1, 2019</td>\n      <td>Action</td>\n      <td>68</td>\n      <td>58</td>\n      <td>Coming 2017</td>\n      <td>False</td>\n      <td>False</td>\n    </tr>\n    <tr>\n      <th>1839</th>\n      <td>ToeJam &amp; Earl: Back in the Groove</td>\n      <td>Feb 15, 2019</td>\n      <td>Action</td>\n      <td>65</td>\n      <td>62</td>\n      <td>Coming 2017</td>\n      <td>False</td>\n      <td>False</td>\n    </tr>\n    <tr>\n      <th>1840</th>\n      <td>ASTRONEER</td>\n      <td>Feb  6, 2019</td>\n      <td>Action Adventure</td>\n      <td>73</td>\n      <td>71</td>\n      <td>2016</td>\n      <td>False</td>\n      <td>False</td>\n    </tr>\n    <tr>\n      <th>1841</th>\n      <td>8-Bit Hordes</td>\n      <td>Feb  1, 2019</td>\n      <td>Strategy</td>\n      <td>63</td>\n      <td>25</td>\n      <td>Aug 12 2016</td>\n      <td>False</td>\n      <td>False</td>\n    </tr>\n  </tbody>\n</table>\n<p>1842 rows × 8 columns</p>\n</div>"
     },
     "metadata": {},
     "execution_count": 306
    }
   ],
   "source": [
    "merge_name = pd.merge(new_meta_df, new_steam_df, how='inner', on='Title')\n",
    "merge_name"
   ]
  },
  {
   "cell_type": "code",
   "execution_count": 307,
   "metadata": {},
   "outputs": [
    {
     "output_type": "execute_result",
     "data": {
      "text/plain": "                                  Title Release Date_x             Genre  \\\n0                              Portal 2   Apr 18, 2011            Action   \n1                              Portal 2   Apr 18, 2011            Action   \n2                              Portal 2   Apr 18, 2011            Action   \n3           The Elder Scrolls V: Skyrim   Nov 10, 2011      Role-Playing   \n4           The Elder Scrolls V: Skyrim   Nov 17, 2017      Role-Playing   \n...                                 ...            ...               ...   \n1837  ToeJam & Earl: Back in the Groove   Feb 15, 2019            Action   \n1838  ToeJam & Earl: Back in the Groove   Mar  1, 2019            Action   \n1839  ToeJam & Earl: Back in the Groove   Feb 15, 2019            Action   \n1840                          ASTRONEER   Feb  6, 2019  Action Adventure   \n1841                       8-Bit Hordes   Feb  1, 2019          Strategy   \n\n      Metacritic Score  Player Score  \n0                   95            90  \n1                   95            90  \n2                   95            90  \n3                   94            82  \n4                   84            82  \n...                ...           ...  \n1837                76            48  \n1838                68            58  \n1839                65            62  \n1840                73            71  \n1841                63            25  \n\n[1842 rows x 5 columns]",
      "text/html": "<div>\n<style scoped>\n    .dataframe tbody tr th:only-of-type {\n        vertical-align: middle;\n    }\n\n    .dataframe tbody tr th {\n        vertical-align: top;\n    }\n\n    .dataframe thead th {\n        text-align: right;\n    }\n</style>\n<table border=\"1\" class=\"dataframe\">\n  <thead>\n    <tr style=\"text-align: right;\">\n      <th></th>\n      <th>Title</th>\n      <th>Release Date_x</th>\n      <th>Genre</th>\n      <th>Metacritic Score</th>\n      <th>Player Score</th>\n    </tr>\n  </thead>\n  <tbody>\n    <tr>\n      <th>0</th>\n      <td>Portal 2</td>\n      <td>Apr 18, 2011</td>\n      <td>Action</td>\n      <td>95</td>\n      <td>90</td>\n    </tr>\n    <tr>\n      <th>1</th>\n      <td>Portal 2</td>\n      <td>Apr 18, 2011</td>\n      <td>Action</td>\n      <td>95</td>\n      <td>90</td>\n    </tr>\n    <tr>\n      <th>2</th>\n      <td>Portal 2</td>\n      <td>Apr 18, 2011</td>\n      <td>Action</td>\n      <td>95</td>\n      <td>90</td>\n    </tr>\n    <tr>\n      <th>3</th>\n      <td>The Elder Scrolls V: Skyrim</td>\n      <td>Nov 10, 2011</td>\n      <td>Role-Playing</td>\n      <td>94</td>\n      <td>82</td>\n    </tr>\n    <tr>\n      <th>4</th>\n      <td>The Elder Scrolls V: Skyrim</td>\n      <td>Nov 17, 2017</td>\n      <td>Role-Playing</td>\n      <td>84</td>\n      <td>82</td>\n    </tr>\n    <tr>\n      <th>...</th>\n      <td>...</td>\n      <td>...</td>\n      <td>...</td>\n      <td>...</td>\n      <td>...</td>\n    </tr>\n    <tr>\n      <th>1837</th>\n      <td>ToeJam &amp; Earl: Back in the Groove</td>\n      <td>Feb 15, 2019</td>\n      <td>Action</td>\n      <td>76</td>\n      <td>48</td>\n    </tr>\n    <tr>\n      <th>1838</th>\n      <td>ToeJam &amp; Earl: Back in the Groove</td>\n      <td>Mar  1, 2019</td>\n      <td>Action</td>\n      <td>68</td>\n      <td>58</td>\n    </tr>\n    <tr>\n      <th>1839</th>\n      <td>ToeJam &amp; Earl: Back in the Groove</td>\n      <td>Feb 15, 2019</td>\n      <td>Action</td>\n      <td>65</td>\n      <td>62</td>\n    </tr>\n    <tr>\n      <th>1840</th>\n      <td>ASTRONEER</td>\n      <td>Feb  6, 2019</td>\n      <td>Action Adventure</td>\n      <td>73</td>\n      <td>71</td>\n    </tr>\n    <tr>\n      <th>1841</th>\n      <td>8-Bit Hordes</td>\n      <td>Feb  1, 2019</td>\n      <td>Strategy</td>\n      <td>63</td>\n      <td>25</td>\n    </tr>\n  </tbody>\n</table>\n<p>1842 rows × 5 columns</p>\n</div>"
     },
     "metadata": {},
     "execution_count": 307
    }
   ],
   "source": [
    "merge_dates = merge_name[['Title','Release Date_x','Genre','Metacritic Score','Player Score']]\n",
    "merge_dates"
   ]
  },
  {
   "cell_type": "code",
   "execution_count": 308,
   "metadata": {},
   "outputs": [],
   "source": [
    "drop_dup = merge_dates.drop_duplicates(subset='Title').rename(columns={'Release Date_x':'Release Date'})"
   ]
  },
  {
   "cell_type": "code",
   "execution_count": 309,
   "metadata": {},
   "outputs": [],
   "source": [
    "final_df = drop_dup[drop_dup['Genre'] == 'Role-Playing']"
   ]
  },
  {
   "cell_type": "code",
   "execution_count": 310,
   "metadata": {},
   "outputs": [
    {
     "output_type": "execute_result",
     "data": {
      "text/plain": "                            Title  Release Date         Genre  \\\n3     The Elder Scrolls V: Skyrim  Nov 10, 2011  Role-Playing   \n748                     Undertale  Sep 15, 2015  Role-Playing   \n1103               Stardew Valley  Dec 14, 2016  Role-Playing   \n106                 Torchlight II  Sep 20, 2012  Role-Playing   \n1772                    CrossCode  Sep 20, 2018  Role-Playing   \n...                           ...           ...           ...   \n457       Akaneiro: Demon Hunters  Jan 24, 2013  Role-Playing   \n236                        Krater  Jun 12, 2012  Role-Playing   \n1830            Fear Effect Sedna  Mar  6, 2018  Role-Playing   \n1551                       Zenith  Sep 20, 2016  Role-Playing   \n1556                 Crystal Rift  Nov 29, 2016  Role-Playing   \n\n      Metacritic Score  Player Score  \n3                   94            82  \n748                 92            83  \n1103                89            77  \n106                 88            85  \n1772                86            81  \n...                ...           ...  \n457                 53            65  \n236                 52            71  \n1830                50            66  \n1551                46            66  \n1556                37            63  \n\n[111 rows x 5 columns]",
      "text/html": "<div>\n<style scoped>\n    .dataframe tbody tr th:only-of-type {\n        vertical-align: middle;\n    }\n\n    .dataframe tbody tr th {\n        vertical-align: top;\n    }\n\n    .dataframe thead th {\n        text-align: right;\n    }\n</style>\n<table border=\"1\" class=\"dataframe\">\n  <thead>\n    <tr style=\"text-align: right;\">\n      <th></th>\n      <th>Title</th>\n      <th>Release Date</th>\n      <th>Genre</th>\n      <th>Metacritic Score</th>\n      <th>Player Score</th>\n    </tr>\n  </thead>\n  <tbody>\n    <tr>\n      <th>3</th>\n      <td>The Elder Scrolls V: Skyrim</td>\n      <td>Nov 10, 2011</td>\n      <td>Role-Playing</td>\n      <td>94</td>\n      <td>82</td>\n    </tr>\n    <tr>\n      <th>748</th>\n      <td>Undertale</td>\n      <td>Sep 15, 2015</td>\n      <td>Role-Playing</td>\n      <td>92</td>\n      <td>83</td>\n    </tr>\n    <tr>\n      <th>1103</th>\n      <td>Stardew Valley</td>\n      <td>Dec 14, 2016</td>\n      <td>Role-Playing</td>\n      <td>89</td>\n      <td>77</td>\n    </tr>\n    <tr>\n      <th>106</th>\n      <td>Torchlight II</td>\n      <td>Sep 20, 2012</td>\n      <td>Role-Playing</td>\n      <td>88</td>\n      <td>85</td>\n    </tr>\n    <tr>\n      <th>1772</th>\n      <td>CrossCode</td>\n      <td>Sep 20, 2018</td>\n      <td>Role-Playing</td>\n      <td>86</td>\n      <td>81</td>\n    </tr>\n    <tr>\n      <th>...</th>\n      <td>...</td>\n      <td>...</td>\n      <td>...</td>\n      <td>...</td>\n      <td>...</td>\n    </tr>\n    <tr>\n      <th>457</th>\n      <td>Akaneiro: Demon Hunters</td>\n      <td>Jan 24, 2013</td>\n      <td>Role-Playing</td>\n      <td>53</td>\n      <td>65</td>\n    </tr>\n    <tr>\n      <th>236</th>\n      <td>Krater</td>\n      <td>Jun 12, 2012</td>\n      <td>Role-Playing</td>\n      <td>52</td>\n      <td>71</td>\n    </tr>\n    <tr>\n      <th>1830</th>\n      <td>Fear Effect Sedna</td>\n      <td>Mar  6, 2018</td>\n      <td>Role-Playing</td>\n      <td>50</td>\n      <td>66</td>\n    </tr>\n    <tr>\n      <th>1551</th>\n      <td>Zenith</td>\n      <td>Sep 20, 2016</td>\n      <td>Role-Playing</td>\n      <td>46</td>\n      <td>66</td>\n    </tr>\n    <tr>\n      <th>1556</th>\n      <td>Crystal Rift</td>\n      <td>Nov 29, 2016</td>\n      <td>Role-Playing</td>\n      <td>37</td>\n      <td>63</td>\n    </tr>\n  </tbody>\n</table>\n<p>111 rows × 5 columns</p>\n</div>"
     },
     "metadata": {},
     "execution_count": 310
    }
   ],
   "source": [
    "metacritic_best = final_df.sort_values(['Metacritic Score'], ascending=False)\n",
    "metacritic_best"
   ]
  },
  {
   "cell_type": "code",
   "execution_count": 311,
   "metadata": {},
   "outputs": [
    {
     "output_type": "execute_result",
     "data": {
      "text/plain": "                       Title  Release Date         Genre  Metacritic Score  \\\n26               To the Moon  Nov  1, 2011  Role-Playing                81   \n260    Dust: An Elysian Tail  May 24, 2013  Role-Playing                85   \n106            Torchlight II  Sep 20, 2012  Role-Playing                88   \n164                Ys Origin  May 31, 2012  Role-Playing                76   \n748                Undertale  Sep 15, 2015  Role-Playing                92   \n...                      ...           ...           ...               ...   \n66            Forsaken World  Mar 22, 2011  Role-Playing                69   \n926   Guild of Dungeoneering  Jul 14, 2015  Role-Playing                72   \n53         Dungeon Siege III  Jun 20, 2011  Role-Playing                72   \n1018                RymdResa  Aug 20, 2015  Role-Playing                64   \n561                 ArcheAge  Sep 16, 2014  Role-Playing                80   \n\n      Player Score  \n26              89  \n260             85  \n106             85  \n164             84  \n748             83  \n...            ...  \n66              50  \n926             50  \n53              47  \n1018            42  \n561             37  \n\n[111 rows x 5 columns]",
      "text/html": "<div>\n<style scoped>\n    .dataframe tbody tr th:only-of-type {\n        vertical-align: middle;\n    }\n\n    .dataframe tbody tr th {\n        vertical-align: top;\n    }\n\n    .dataframe thead th {\n        text-align: right;\n    }\n</style>\n<table border=\"1\" class=\"dataframe\">\n  <thead>\n    <tr style=\"text-align: right;\">\n      <th></th>\n      <th>Title</th>\n      <th>Release Date</th>\n      <th>Genre</th>\n      <th>Metacritic Score</th>\n      <th>Player Score</th>\n    </tr>\n  </thead>\n  <tbody>\n    <tr>\n      <th>26</th>\n      <td>To the Moon</td>\n      <td>Nov  1, 2011</td>\n      <td>Role-Playing</td>\n      <td>81</td>\n      <td>89</td>\n    </tr>\n    <tr>\n      <th>260</th>\n      <td>Dust: An Elysian Tail</td>\n      <td>May 24, 2013</td>\n      <td>Role-Playing</td>\n      <td>85</td>\n      <td>85</td>\n    </tr>\n    <tr>\n      <th>106</th>\n      <td>Torchlight II</td>\n      <td>Sep 20, 2012</td>\n      <td>Role-Playing</td>\n      <td>88</td>\n      <td>85</td>\n    </tr>\n    <tr>\n      <th>164</th>\n      <td>Ys Origin</td>\n      <td>May 31, 2012</td>\n      <td>Role-Playing</td>\n      <td>76</td>\n      <td>84</td>\n    </tr>\n    <tr>\n      <th>748</th>\n      <td>Undertale</td>\n      <td>Sep 15, 2015</td>\n      <td>Role-Playing</td>\n      <td>92</td>\n      <td>83</td>\n    </tr>\n    <tr>\n      <th>...</th>\n      <td>...</td>\n      <td>...</td>\n      <td>...</td>\n      <td>...</td>\n      <td>...</td>\n    </tr>\n    <tr>\n      <th>66</th>\n      <td>Forsaken World</td>\n      <td>Mar 22, 2011</td>\n      <td>Role-Playing</td>\n      <td>69</td>\n      <td>50</td>\n    </tr>\n    <tr>\n      <th>926</th>\n      <td>Guild of Dungeoneering</td>\n      <td>Jul 14, 2015</td>\n      <td>Role-Playing</td>\n      <td>72</td>\n      <td>50</td>\n    </tr>\n    <tr>\n      <th>53</th>\n      <td>Dungeon Siege III</td>\n      <td>Jun 20, 2011</td>\n      <td>Role-Playing</td>\n      <td>72</td>\n      <td>47</td>\n    </tr>\n    <tr>\n      <th>1018</th>\n      <td>RymdResa</td>\n      <td>Aug 20, 2015</td>\n      <td>Role-Playing</td>\n      <td>64</td>\n      <td>42</td>\n    </tr>\n    <tr>\n      <th>561</th>\n      <td>ArcheAge</td>\n      <td>Sep 16, 2014</td>\n      <td>Role-Playing</td>\n      <td>80</td>\n      <td>37</td>\n    </tr>\n  </tbody>\n</table>\n<p>111 rows × 5 columns</p>\n</div>"
     },
     "metadata": {},
     "execution_count": 311
    }
   ],
   "source": [
    "player_best = final_df.sort_values(['Player Score'], ascending=False)\n",
    "player_best"
   ]
  },
  {
   "cell_type": "code",
   "execution_count": 312,
   "metadata": {},
   "outputs": [
    {
     "output_type": "execute_result",
     "data": {
      "text/plain": "['Player Score', 'Metacritic Score']"
     },
     "metadata": {},
     "execution_count": 312
    }
   ],
   "source": [
    "conn = 'postgres:Django420@localhost:5432/rpg_games'\n",
    "engine = create_engine(f'postgresql://{conn}')\n",
    "engine.table_names()"
   ]
  },
  {
   "cell_type": "code",
   "execution_count": 313,
   "metadata": {},
   "outputs": [],
   "source": [
    "player_best.to_sql(name='Player Score', con=engine, if_exists='append', index=False)"
   ]
  },
  {
   "cell_type": "code",
   "execution_count": 314,
   "metadata": {},
   "outputs": [],
   "source": [
    "metacritic_best.to_sql(name='Metacritic Score', con=engine, if_exists='append', index=False)"
   ]
  },
  {
   "cell_type": "code",
   "execution_count": null,
   "metadata": {},
   "outputs": [],
   "source": []
  }
 ]
}